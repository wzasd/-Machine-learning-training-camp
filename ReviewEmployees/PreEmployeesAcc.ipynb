{
 "cells": [
  {
   "cell_type": "code",
   "execution_count": 42,
   "metadata": {},
   "outputs": [
    {
     "data": {
      "text/html": [
       "<div>\n",
       "<style scoped>\n",
       "    .dataframe tbody tr th:only-of-type {\n",
       "        vertical-align: middle;\n",
       "    }\n",
       "\n",
       "    .dataframe tbody tr th {\n",
       "        vertical-align: top;\n",
       "    }\n",
       "\n",
       "    .dataframe thead th {\n",
       "        text-align: right;\n",
       "    }\n",
       "</style>\n",
       "<table border=\"1\" class=\"dataframe\">\n",
       "  <thead>\n",
       "    <tr style=\"text-align: right;\">\n",
       "      <th></th>\n",
       "      <th>degree</th>\n",
       "      <th>education</th>\n",
       "      <th>skills</th>\n",
       "      <th>working_experience</th>\n",
       "      <th>position</th>\n",
       "    </tr>\n",
       "  </thead>\n",
       "  <tbody>\n",
       "    <tr>\n",
       "      <th>0</th>\n",
       "      <td>master</td>\n",
       "      <td>fudan university</td>\n",
       "      <td>c/c++ stl;c;sql;design patterns;atl com;asp.ne...</td>\n",
       "      <td>bank of china;sap;emc</td>\n",
       "      <td>dev</td>\n",
       "    </tr>\n",
       "    <tr>\n",
       "      <th>1</th>\n",
       "      <td>bachelor</td>\n",
       "      <td>inner mongolia university</td>\n",
       "      <td>c;design patterns;windows;system modeling;stor...</td>\n",
       "      <td>ca technologies;beijing topsec network securit...</td>\n",
       "      <td>dev</td>\n",
       "    </tr>\n",
       "    <tr>\n",
       "      <th>2</th>\n",
       "      <td>bachelor</td>\n",
       "      <td>shanghai university</td>\n",
       "      <td>c;git;java;python;mongodb;selenium;test automa...</td>\n",
       "      <td>tudou.com;ebaotech corporation</td>\n",
       "      <td>dev</td>\n",
       "    </tr>\n",
       "    <tr>\n",
       "      <th>3</th>\n",
       "      <td>master</td>\n",
       "      <td>shanghai jiao tong university</td>\n",
       "      <td>c;java;c++;provisioning;unix;clariion;solaris;...</td>\n",
       "      <td>hp;emc</td>\n",
       "      <td>dev</td>\n",
       "    </tr>\n",
       "    <tr>\n",
       "      <th>4</th>\n",
       "      <td>master</td>\n",
       "      <td>beijing university of post and telecommunications</td>\n",
       "      <td>c;sip;java;tcp/ip;shell scripting;python;ip;cl...</td>\n",
       "      <td>tektronix</td>\n",
       "      <td>dev</td>\n",
       "    </tr>\n",
       "  </tbody>\n",
       "</table>\n",
       "</div>"
      ],
      "text/plain": [
       "     degree                                          education  \\\n",
       "0    master                                   fudan university   \n",
       "1  bachelor                          inner mongolia university   \n",
       "2  bachelor                                shanghai university   \n",
       "3    master                      shanghai jiao tong university   \n",
       "4    master  beijing university of post and telecommunications   \n",
       "\n",
       "                                              skills  \\\n",
       "0  c/c++ stl;c;sql;design patterns;atl com;asp.ne...   \n",
       "1  c;design patterns;windows;system modeling;stor...   \n",
       "2  c;git;java;python;mongodb;selenium;test automa...   \n",
       "3  c;java;c++;provisioning;unix;clariion;solaris;...   \n",
       "4  c;sip;java;tcp/ip;shell scripting;python;ip;cl...   \n",
       "\n",
       "                                  working_experience position  \n",
       "0                              bank of china;sap;emc      dev  \n",
       "1  ca technologies;beijing topsec network securit...      dev  \n",
       "2                     tudou.com;ebaotech corporation      dev  \n",
       "3                                             hp;emc      dev  \n",
       "4                                          tektronix      dev  "
      ]
     },
     "execution_count": 42,
     "metadata": {},
     "output_type": "execute_result"
    }
   ],
   "source": [
    "import pandas as pd\n",
    "import numpy as np\n",
    "#导入数据\n",
    "dataset = pd.read_csv('./employees_dataset.csv')\n",
    "dataset.head()"
   ]
  },
  {
   "cell_type": "code",
   "execution_count": 150,
   "metadata": {},
   "outputs": [],
   "source": [
    "#使用 DictVectorizer 来区分 skills 特征向量\n",
    "from sklearn.feature_extraction import DictVectorizer\n",
    "onehot_encoder = DictVectorizer()\n",
    "dataDic = dataset.to_dict(orient='records')"
   ]
  },
  {
   "cell_type": "code",
   "execution_count": 163,
   "metadata": {},
   "outputs": [],
   "source": [
    "#对于其他列使用把不同类别映射成不同数字的方式\n",
    "from sklearn.preprocessing import LabelEncoder\n",
    "le = LabelEncoder()\n",
    "Y=le.fit_transform(dataset['position'].values)\n",
    "used_features = [\"degree\"]\n",
    "X = dataset[used_features].values\n",
    "X[:,0]=le.fit_transform(X[:,0])"
   ]
  },
  {
   "cell_type": "code",
   "execution_count": 164,
   "metadata": {},
   "outputs": [],
   "source": [
    "# 词库表示法 这里使用词库表示法 来进行 特征分类\n",
    "from sklearn.feature_extraction.text import CountVectorizer\n",
    "vectorizer = CountVectorizer()\n",
    "X=np.concatenate((X, vectorizer.fit_transform(dataset['education'].values).todense()), axis=1)\n",
    "X=np.concatenate((X, vectorizer.fit_transform(dataset['skills'].values).todense()), axis=1)\n",
    "X=np.concatenate((X, vectorizer.fit_transform(dataset['working_experience'].values).todense()), axis=1)"
   ]
  },
  {
   "cell_type": "code",
   "execution_count": 165,
   "metadata": {},
   "outputs": [],
   "source": [
    "from sklearn.model_selection import train_test_split\n",
    "X_train, X_test, Y_train, Y_test = train_test_split(X, Y, test_size = 0.2, random_state = 0)# 按分割测试数据与训练数据"
   ]
  },
  {
   "cell_type": "code",
   "execution_count": 166,
   "metadata": {},
   "outputs": [
    {
     "data": {
      "text/plain": [
       "GaussianNB(priors=None)"
      ]
     },
     "execution_count": 166,
     "metadata": {},
     "output_type": "execute_result"
    }
   ],
   "source": [
    "#训练模型\n",
    "from sklearn.naive_bayes import GaussianNB\n",
    "gnb = GaussianNB()\n",
    "gnb.fit(X_train,Y_train)"
   ]
  },
  {
   "cell_type": "code",
   "execution_count": 167,
   "metadata": {},
   "outputs": [],
   "source": [
    "y_pred = gnb.predict(X_test)#预测测试数据"
   ]
  },
  {
   "cell_type": "code",
   "execution_count": 168,
   "metadata": {},
   "outputs": [
    {
     "name": "stdout",
     "output_type": "stream",
     "text": [
      "Number of mislabeled points out of a total 15 points : 3, performance 80.00%\n"
     ]
    }
   ],
   "source": [
    "print(\"Number of mislabeled points out of a total {} points : {}, performance {:05.2f}%\"\n",
    "          .format(\n",
    "              X_test.shape[0],\n",
    "              (Y_test != y_pred).sum(),\n",
    "              100*(1-(Y_test != y_pred).sum()/X_test.shape[0])\n",
    "    ))"
   ]
  },
  {
   "cell_type": "code",
   "execution_count": 169,
   "metadata": {},
   "outputs": [
    {
     "name": "stdout",
     "output_type": "stream",
     "text": [
      "Number of mislabeled points out of a total 15 points : 2, performance 86.67%\n"
     ]
    }
   ],
   "source": [
    "from sklearn.linear_model import LogisticRegression \n",
    "lr = LogisticRegression(C=1e5)  \n",
    "lr.fit(X_train,Y_train)\n",
    "y_pred = lr.predict(X_test)#预测测试数据\n",
    "print(\"Number of mislabeled points out of a total {} points : {}, performance {:05.2f}%\"\n",
    "          .format(\n",
    "              X_test.shape[0],\n",
    "              (Y_test != y_pred).sum(),\n",
    "              100*(1-(Y_test != y_pred).sum()/X_test.shape[0])\n",
    "    ))"
   ]
  },
  {
   "cell_type": "code",
   "execution_count": 170,
   "metadata": {},
   "outputs": [
    {
     "name": "stdout",
     "output_type": "stream",
     "text": [
      "Number of mislabeled points out of a total 15 points : 3, performance 80.00%\n"
     ]
    }
   ],
   "source": [
    "from sklearn import tree\n",
    "clf = tree.DecisionTreeClassifier()\n",
    "clf.fit(X_train,Y_train)\n",
    "y_pred = clf.predict(X_test)#预测测试数据\n",
    "print(\"Number of mislabeled points out of a total {} points : {}, performance {:05.2f}%\"\n",
    "          .format(\n",
    "              X_test.shape[0],\n",
    "              (Y_test != y_pred).sum(),\n",
    "              100*(1-(Y_test != y_pred).sum()/X_test.shape[0])\n",
    "    ))"
   ]
  }
 ],
 "metadata": {
  "kernelspec": {
   "display_name": "Python 3",
   "language": "python",
   "name": "python3"
  },
  "language_info": {
   "codemirror_mode": {
    "name": "ipython",
    "version": 3
   },
   "file_extension": ".py",
   "mimetype": "text/x-python",
   "name": "python",
   "nbconvert_exporter": "python",
   "pygments_lexer": "ipython3",
   "version": "3.7.0"
  }
 },
 "nbformat": 4,
 "nbformat_minor": 2
}
