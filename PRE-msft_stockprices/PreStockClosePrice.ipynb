{
 "cells": [
  {
   "cell_type": "code",
   "execution_count": 1,
   "metadata": {},
   "outputs": [
    {
     "data": {
      "text/html": [
       "<div>\n",
       "<style scoped>\n",
       "    .dataframe tbody tr th:only-of-type {\n",
       "        vertical-align: middle;\n",
       "    }\n",
       "\n",
       "    .dataframe tbody tr th {\n",
       "        vertical-align: top;\n",
       "    }\n",
       "\n",
       "    .dataframe thead th {\n",
       "        text-align: right;\n",
       "    }\n",
       "</style>\n",
       "<table border=\"1\" class=\"dataframe\">\n",
       "  <thead>\n",
       "    <tr style=\"text-align: right;\">\n",
       "      <th></th>\n",
       "      <th>Date</th>\n",
       "      <th>High Price</th>\n",
       "      <th>Low Price</th>\n",
       "      <th>Open Price</th>\n",
       "      <th>Close Price</th>\n",
       "      <th>Volume</th>\n",
       "    </tr>\n",
       "  </thead>\n",
       "  <tbody>\n",
       "    <tr>\n",
       "      <th>0</th>\n",
       "      <td>2014-09-09 00:00:00</td>\n",
       "      <td>46.970001</td>\n",
       "      <td>46.419998</td>\n",
       "      <td>46.470001</td>\n",
       "      <td>46.759998</td>\n",
       "      <td>40302400.0</td>\n",
       "    </tr>\n",
       "    <tr>\n",
       "      <th>1</th>\n",
       "      <td>2014-09-10 00:00:00</td>\n",
       "      <td>46.939999</td>\n",
       "      <td>46.279999</td>\n",
       "      <td>46.820000</td>\n",
       "      <td>46.840000</td>\n",
       "      <td>27302400.0</td>\n",
       "    </tr>\n",
       "    <tr>\n",
       "      <th>2</th>\n",
       "      <td>2014-09-11 00:00:00</td>\n",
       "      <td>47.000000</td>\n",
       "      <td>46.470001</td>\n",
       "      <td>46.740002</td>\n",
       "      <td>47.000000</td>\n",
       "      <td>29216400.0</td>\n",
       "    </tr>\n",
       "    <tr>\n",
       "      <th>3</th>\n",
       "      <td>2014-09-12 00:00:00</td>\n",
       "      <td>47.020000</td>\n",
       "      <td>46.599998</td>\n",
       "      <td>46.910000</td>\n",
       "      <td>46.700001</td>\n",
       "      <td>38244700.0</td>\n",
       "    </tr>\n",
       "    <tr>\n",
       "      <th>4</th>\n",
       "      <td>2014-09-15 00:00:00</td>\n",
       "      <td>46.709999</td>\n",
       "      <td>46.099998</td>\n",
       "      <td>46.540001</td>\n",
       "      <td>46.240002</td>\n",
       "      <td>37667600.0</td>\n",
       "    </tr>\n",
       "  </tbody>\n",
       "</table>\n",
       "</div>"
      ],
      "text/plain": [
       "                  Date  High Price  Low Price  Open Price  Close Price  \\\n",
       "0  2014-09-09 00:00:00   46.970001  46.419998   46.470001    46.759998   \n",
       "1  2014-09-10 00:00:00   46.939999  46.279999   46.820000    46.840000   \n",
       "2  2014-09-11 00:00:00   47.000000  46.470001   46.740002    47.000000   \n",
       "3  2014-09-12 00:00:00   47.020000  46.599998   46.910000    46.700001   \n",
       "4  2014-09-15 00:00:00   46.709999  46.099998   46.540001    46.240002   \n",
       "\n",
       "       Volume  \n",
       "0  40302400.0  \n",
       "1  27302400.0  \n",
       "2  29216400.0  \n",
       "3  38244700.0  \n",
       "4  37667600.0  "
      ]
     },
     "execution_count": 1,
     "metadata": {},
     "output_type": "execute_result"
    }
   ],
   "source": [
    "#导入数据\n",
    "import pandas as pd\n",
    "dataset = pd.read_csv('./msft_stockprices_dataset.csv')\n",
    "dataset.head()"
   ]
  },
  {
   "cell_type": "code",
   "execution_count": 2,
   "metadata": {},
   "outputs": [],
   "source": [
    "#将特征分类，并且提出需要预测的数据\n",
    "used_features = [\"High Price\", \"Low Price\",\"Open Price\",\"Volume\"]\n",
    "X = dataset[used_features].values \n",
    "Y = dataset[\"Close Price\"].values"
   ]
  },
  {
   "cell_type": "code",
   "execution_count": 3,
   "metadata": {},
   "outputs": [],
   "source": [
    "#分割训练集以及测试集这里使用交叉预测以解决过拟合问题，20%测试集，但是这里并不太知道为什么要分成三种或者两种，望解答\n",
    "from sklearn.model_selection import train_test_split\n",
    "X_train, X_test, Y_train, Y_test = train_test_split(X, Y, test_size = 0.2, random_state = 0)# 按分割测试数据与训练数据"
   ]
  },
  {
   "cell_type": "code",
   "execution_count": 4,
   "metadata": {},
   "outputs": [
    {
     "data": {
      "text/plain": [
       "LinearRegression(copy_X=True, fit_intercept=True, n_jobs=1, normalize=False)"
      ]
     },
     "execution_count": 4,
     "metadata": {},
     "output_type": "execute_result"
    }
   ],
   "source": [
    "#使用线性回归进行拟合\n",
    "from sklearn.linear_model import LinearRegression\n",
    "regressor = LinearRegression()\n",
    "regressor.fit(X_train, Y_train)#用线性模型拟合训练数据"
   ]
  },
  {
   "cell_type": "code",
   "execution_count": 11,
   "metadata": {},
   "outputs": [],
   "source": [
    "#对数据进行预测\n",
    "Y_pred = regressor.predict(X_test) # 预测测试数据"
   ]
  },
  {
   "cell_type": "code",
   "execution_count": 12,
   "metadata": {},
   "outputs": [
    {
     "data": {
      "text/plain": [
       "0.23068680975602576"
      ]
     },
     "execution_count": 12,
     "metadata": {},
     "output_type": "execute_result"
    }
   ],
   "source": [
    "#对模型进行评估：回归模型评估有三种方法，分别是：平均绝对值误差、均方误差和R平方值\n",
    "#平均绝对值误差评估()\n",
    "from sklearn.metrics import mean_absolute_error\n",
    "mean_absolute_error(Y_test, Y_pred)"
   ]
  },
  {
   "cell_type": "code",
   "execution_count": 14,
   "metadata": {},
   "outputs": [
    {
     "data": {
      "text/plain": [
       "0.1098236165930015"
      ]
     },
     "execution_count": 14,
     "metadata": {},
     "output_type": "execute_result"
    }
   ],
   "source": [
    "#均方误差\n",
    "from sklearn.metrics import mean_squared_error\n",
    "mean_squared_error(Y_test, Y_pred)"
   ]
  },
  {
   "cell_type": "code",
   "execution_count": 16,
   "metadata": {},
   "outputs": [
    {
     "data": {
      "text/plain": [
       "0.9997074816702273"
      ]
     },
     "execution_count": 16,
     "metadata": {},
     "output_type": "execute_result"
    }
   ],
   "source": [
    "#R平均值\n",
    "from sklearn.metrics import r2_score\n",
    "r2_score(Y_test, Y_pred)"
   ]
  },
  {
   "cell_type": "code",
   "execution_count": 19,
   "metadata": {},
   "outputs": [],
   "source": [
    "#对预测准确度进行验证\n",
    "preAcc = abs((Y_pred-Y_test)/Y_test)\n",
    "total=Y_test.size"
   ]
  },
  {
   "cell_type": "code",
   "execution_count": 20,
   "metadata": {},
   "outputs": [
    {
     "data": {
      "text/plain": [
       "1.0"
      ]
     },
     "execution_count": 20,
     "metadata": {},
     "output_type": "execute_result"
    }
   ],
   "source": [
    "#ET=10%\n",
    "preAcc[preAcc<=0.1].size/total"
   ]
  },
  {
   "cell_type": "code",
   "execution_count": 21,
   "metadata": {},
   "outputs": [
    {
     "data": {
      "text/plain": [
       "1.0"
      ]
     },
     "execution_count": 21,
     "metadata": {},
     "output_type": "execute_result"
    }
   ],
   "source": [
    "#ET=5%\n",
    "preAcc[preAcc<=0.05].size/total"
   ]
  },
  {
   "cell_type": "code",
   "execution_count": 22,
   "metadata": {},
   "outputs": [
    {
     "data": {
      "text/plain": [
       "1.0"
      ]
     },
     "execution_count": 22,
     "metadata": {},
     "output_type": "execute_result"
    }
   ],
   "source": [
    "#ET=3%\n",
    "preAcc[preAcc<=0.03].size/total"
   ]
  },
  {
   "cell_type": "code",
   "execution_count": 23,
   "metadata": {},
   "outputs": [
    {
     "data": {
      "text/plain": [
       "0.9554455445544554"
      ]
     },
     "execution_count": 23,
     "metadata": {},
     "output_type": "execute_result"
    }
   ],
   "source": [
    "#ET=1%\n",
    "preAcc[preAcc<=0.01].size/total"
   ]
  },
  {
   "cell_type": "code",
   "execution_count": null,
   "metadata": {},
   "outputs": [],
   "source": []
  }
 ],
 "metadata": {
  "kernelspec": {
   "display_name": "Python 3",
   "language": "python",
   "name": "python3"
  },
  "language_info": {
   "codemirror_mode": {
    "name": "ipython",
    "version": 3
   },
   "file_extension": ".py",
   "mimetype": "text/x-python",
   "name": "python",
   "nbconvert_exporter": "python",
   "pygments_lexer": "ipython3",
   "version": "3.7.0"
  }
 },
 "nbformat": 4,
 "nbformat_minor": 2
}
